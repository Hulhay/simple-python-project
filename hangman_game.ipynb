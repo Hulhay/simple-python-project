{
  "nbformat": 4,
  "nbformat_minor": 0,
  "metadata": {
    "colab": {
      "name": "hangman_game",
      "provenance": [],
      "collapsed_sections": [],
      "authorship_tag": "ABX9TyNUbXDDh0mgUn81mgUNZ3QK",
      "include_colab_link": true
    },
    "kernelspec": {
      "name": "python3",
      "display_name": "Python 3"
    },
    "language_info": {
      "name": "python"
    }
  },
  "cells": [
    {
      "cell_type": "markdown",
      "metadata": {
        "id": "view-in-github",
        "colab_type": "text"
      },
      "source": [
        "<a href=\"https://colab.research.google.com/github/Hulhay/simple-python-project/blob/main/hangman_game.ipynb\" target=\"_parent\"><img src=\"https://colab.research.google.com/assets/colab-badge.svg\" alt=\"Open In Colab\"/></a>"
      ]
    },
    {
      "cell_type": "markdown",
      "metadata": {
        "id": "XlLQGL5KNlFi"
      },
      "source": [
        "**UNDER DEVELOPER**"
      ]
    },
    {
      "cell_type": "code",
      "metadata": {
        "id": "MFX4Yr8YOM2h"
      },
      "source": [
        "import pandas as pd\n",
        "import random"
      ],
      "execution_count": null,
      "outputs": []
    },
    {
      "cell_type": "code",
      "metadata": {
        "colab": {
          "base_uri": "https://localhost:8080/",
          "height": 206
        },
        "id": "FtwuZ-DuOXNI",
        "outputId": "bea917f1-2331-4676-df36-ecc0b6fb72fb"
      },
      "source": [
        "df = pd.read_csv('dataset.csv')\n",
        "df.sample(5)"
      ],
      "execution_count": null,
      "outputs": [
        {
          "output_type": "execute_result",
          "data": {
            "text/html": [
              "<div>\n",
              "<style scoped>\n",
              "    .dataframe tbody tr th:only-of-type {\n",
              "        vertical-align: middle;\n",
              "    }\n",
              "\n",
              "    .dataframe tbody tr th {\n",
              "        vertical-align: top;\n",
              "    }\n",
              "\n",
              "    .dataframe thead th {\n",
              "        text-align: right;\n",
              "    }\n",
              "</style>\n",
              "<table border=\"1\" class=\"dataframe\">\n",
              "  <thead>\n",
              "    <tr style=\"text-align: right;\">\n",
              "      <th></th>\n",
              "      <th>category</th>\n",
              "      <th>name</th>\n",
              "    </tr>\n",
              "  </thead>\n",
              "  <tbody>\n",
              "    <tr>\n",
              "      <th>102</th>\n",
              "      <td>animal</td>\n",
              "      <td>squirrel</td>\n",
              "    </tr>\n",
              "    <tr>\n",
              "      <th>60</th>\n",
              "      <td>animal</td>\n",
              "      <td>girrafe</td>\n",
              "    </tr>\n",
              "    <tr>\n",
              "      <th>35</th>\n",
              "      <td>animal</td>\n",
              "      <td>catfish</td>\n",
              "    </tr>\n",
              "    <tr>\n",
              "      <th>20</th>\n",
              "      <td>animal</td>\n",
              "      <td>fish</td>\n",
              "    </tr>\n",
              "    <tr>\n",
              "      <th>47</th>\n",
              "      <td>animal</td>\n",
              "      <td>deer</td>\n",
              "    </tr>\n",
              "  </tbody>\n",
              "</table>\n",
              "</div>"
            ],
            "text/plain": [
              "    category      name\n",
              "102   animal  squirrel\n",
              "60    animal   girrafe\n",
              "35    animal   catfish\n",
              "20    animal      fish\n",
              "47    animal      deer"
            ]
          },
          "metadata": {
            "tags": []
          },
          "execution_count": 2
        }
      ]
    },
    {
      "cell_type": "code",
      "metadata": {
        "colab": {
          "base_uri": "https://localhost:8080/"
        },
        "id": "A3JZnEX2RUiq",
        "outputId": "226ce0f5-850a-4db5-e47b-24841651645d"
      },
      "source": [
        "index = random.randint(1,len(df))\n",
        "category = df['category'][index]\n",
        "answer = df['name'][index]\n",
        "\n",
        "print('category: {}, name: {}'.format(category, answer))"
      ],
      "execution_count": null,
      "outputs": [
        {
          "output_type": "stream",
          "text": [
            "category: animal, name: whale\n"
          ],
          "name": "stdout"
        }
      ]
    },
    {
      "cell_type": "code",
      "metadata": {
        "colab": {
          "base_uri": "https://localhost:8080/"
        },
        "id": "B9Pxh1zUVYWY",
        "outputId": "2bda9d5f-6f4a-4867-9ce3-39b8f791cddb"
      },
      "source": [
        "def create_blank(answer):\n",
        "  answer = answer.split()\n",
        "  words = [len(n) for n in answer]\n",
        "  blank = ['_'+' _'*(word-1) for word in words]\n",
        "  characters = [list(a) for a in answer]\n",
        "\n",
        "  return blank, answer, characters\n",
        "\n",
        "def get_index_from_question(character):\n",
        "  index_characters_rel = {}\n",
        "  count = 0\n",
        "  for char in character:\n",
        "    if char not in index_characters_rel:\n",
        "      index_characters_rel[char] = []\n",
        "    index_characters_rel[char].append(count)\n",
        "    count += 1\n",
        "\n",
        "  return index_characters_rel\n",
        "\n",
        "def list_index_characters(characters):\n",
        "  lst = []\n",
        "  for character in characters:\n",
        "    lst.append(get_index_from_question(character))\n",
        "\n",
        "  return lst\n",
        "\n",
        "def count_underscore(question):\n",
        "  underscore_number = 0\n",
        "  \n",
        "  for q in question:\n",
        "    for char in q:\n",
        "      if char == '_':\n",
        "        underscore_number += 1\n",
        "\n",
        "  return underscore_number\n",
        "\n",
        "answer = 'alexander graham bell'\n",
        "question, answer, characters = create_blank(answer)\n",
        "underscore_number = count_underscore(question)\n",
        "index_from_question = list_index_characters(characters)\n",
        "\n",
        "print('q : ', question)\n",
        "print('a : ', answer)\n",
        "print('c : ', characters)\n",
        "print('i : ', index_from_question)\n",
        "print('N : ', underscore_number)\n",
        "\n",
        "#for q in question:\n",
        "#  print(q)\n",
        "\n",
        "#for a in answer:\n",
        "#  print(a)"
      ],
      "execution_count": 38,
      "outputs": [
        {
          "output_type": "stream",
          "text": [
            "q :  ['_ _ _ _ _ _ _ _ _', '_ _ _ _ _ _', '_ _ _ _']\n",
            "a :  ['alexander', 'graham', 'bell']\n",
            "c :  [['a', 'l', 'e', 'x', 'a', 'n', 'd', 'e', 'r'], ['g', 'r', 'a', 'h', 'a', 'm'], ['b', 'e', 'l', 'l']]\n",
            "i :  [{'a': [0, 4], 'l': [1], 'e': [2, 7], 'x': [3], 'n': [5], 'd': [6], 'r': [8]}, {'g': [0], 'r': [1], 'a': [2, 4], 'h': [3], 'm': [5]}, {'b': [0], 'e': [1], 'l': [2, 3]}]\n",
            "N :  19\n"
          ],
          "name": "stdout"
        }
      ]
    },
    {
      "cell_type": "code",
      "metadata": {
        "colab": {
          "base_uri": "https://localhost:8080/"
        },
        "id": "YXirj6oPF7Vi",
        "outputId": "57cf16af-c9d7-4999-a244-e55f5b1ca3dc"
      },
      "source": [
        "def get_index_from_user(input_, index_from_question):\n",
        "  for i in index_from_question:\n",
        "    if input_ in i:\n",
        "      print(i[input_])\n",
        "\n",
        "def main(input_, characters, index_from_question):\n",
        "  for character in characters:\n",
        "    if input_ not in character:\n",
        "      print('Try again')\n",
        "    else:\n",
        "      get_index_from_user(input_, index_from_question)\n",
        "\n",
        "main('a', characters, index_from_question)"
      ],
      "execution_count": 52,
      "outputs": [
        {
          "output_type": "stream",
          "text": [
            "[0, 4]\n",
            "[2, 4]\n",
            "[0, 4]\n",
            "[2, 4]\n",
            "Try again\n"
          ],
          "name": "stdout"
        }
      ]
    },
    {
      "cell_type": "code",
      "metadata": {
        "id": "ep5wOIRnDRBY"
      },
      "source": [
        ""
      ],
      "execution_count": null,
      "outputs": []
    }
  ]
}