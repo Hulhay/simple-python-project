{
  "nbformat": 4,
  "nbformat_minor": 0,
  "metadata": {
    "colab": {
      "name": "password_generator",
      "provenance": [],
      "authorship_tag": "ABX9TyO8sjCSB+Bp73S3Mfc3/pF8",
      "include_colab_link": true
    },
    "kernelspec": {
      "name": "python3",
      "display_name": "Python 3"
    },
    "language_info": {
      "name": "python"
    }
  },
  "cells": [
    {
      "cell_type": "markdown",
      "metadata": {
        "id": "view-in-github",
        "colab_type": "text"
      },
      "source": [
        "<a href=\"https://colab.research.google.com/github/Hulhay/simple-python-project/blob/main/password_generator.ipynb\" target=\"_parent\"><img src=\"https://colab.research.google.com/assets/colab-badge.svg\" alt=\"Open In Colab\"/></a>"
      ]
    },
    {
      "cell_type": "code",
      "metadata": {
        "id": "3TbQgQZVyuaO"
      },
      "source": [
        "import random"
      ],
      "execution_count": 1,
      "outputs": []
    },
    {
      "cell_type": "code",
      "metadata": {
        "id": "cbW_cVrdyziY"
      },
      "source": [
        "def checking_input(item):\n",
        "  check = False\n",
        "  while check == False:\n",
        "    isitem = input('Do you want to use {} to your password? '.format(item)).lower()\n",
        "    if isitem == 'y':\n",
        "      ans = 1\n",
        "      check = True\n",
        "    if isitem == 'n':\n",
        "      ans = 0\n",
        "      check = True\n",
        "  \n",
        "  return ans\n",
        "\n",
        "def generate_password(count, length, isalpha, islower, isupper, isnumber):\n",
        "  \n",
        "  alphabets = 'QWERTYUIOPASDFGHJKLZXCVBNM'\n",
        "  numbers = '0123456789'\n",
        "\n",
        "  passwords = []\n",
        "  for c in range(count):\n",
        "    password = ''\n",
        "\n",
        "    # 0001\n",
        "    if isalpha == 0 and isnumber == 1:\n",
        "      for l in range(length):\n",
        "        password += random.choice(numbers)\n",
        "\n",
        "    if isalpha == 1:\n",
        "      if islower == 1:\n",
        "        if isupper == 1:\n",
        "          # 1110\n",
        "          if isnumber == 0:\n",
        "            for l in range(length):\n",
        "              password += random.choice(alphabets + alphabets.lower())\n",
        "          # 1111\n",
        "          else:\n",
        "            for l in range(length):\n",
        "              password += random.choice(alphabets + alphabets.lower() + numbers)\n",
        "        else:\n",
        "          # 1100\n",
        "          if isnumber == 0:\n",
        "            for l in range(length):\n",
        "              password += random.choice(alphabets.lower())\n",
        "          # 1101\n",
        "          else:\n",
        "            for l in range(length):\n",
        "              password += random.choice(alphabets.lower() + numbers)\n",
        "      else:\n",
        "        if isupper == 1:\n",
        "          # 1011\n",
        "          if isnumber == 0:\n",
        "            for l in range(length):\n",
        "              password += random.choice(alphabets)\n",
        "          else:\n",
        "            for l in range(length):\n",
        "              password += random.choice(alphabets + numbers)\n",
        "    \n",
        "    passwords.append(password)\n",
        "  return passwords\n",
        "\n",
        "def main():\n",
        "\n",
        "  print('Welcome my friend !!\\nDo you want to try my new ability?\\nI can make a password for you.\\n')\n",
        "  print('You can customize the password what you want.\\nYou only need to answer this question.\\nIt won\\' be difficult. I think.. :)')\n",
        "\n",
        "  print('\\nType Y/y for yes.\\nType N/n for no.\\n')\n",
        "\n",
        "  isalpha = checking_input('alphabets')  \n",
        "  if isalpha == 1:\n",
        "    islower = checking_input('lower cases')\n",
        "    isupper = checking_input('upper cases')\n",
        "  else:\n",
        "    islower = 0\n",
        "    isupper = 0\n",
        "  isnumber = checking_input('numbers')\n",
        "\n",
        "  if isalpha == 0 and isnumber == 0 or isalpha == 1 and islower == 0 and isupper == 0:\n",
        "    print('\\nAre you kidding me?')\n",
        "  else:\n",
        "    count = int(input('How many password do you want? '))\n",
        "    length = int(input('How long is your password? '))\n",
        "\n",
        "  ps = generate_password(count, length, isalpha, islower, isupper, isnumber)\n",
        "  print('\\nThis is your password(s)')\n",
        "  for p in ps:\n",
        "    print(p)"
      ],
      "execution_count": 2,
      "outputs": []
    },
    {
      "cell_type": "code",
      "metadata": {
        "colab": {
          "base_uri": "https://localhost:8080/"
        },
        "id": "Y_Gr0yw53c66",
        "outputId": "4f59b8b4-d1e6-4137-b27d-bffe2fcfc4ab"
      },
      "source": [
        "main()"
      ],
      "execution_count": 3,
      "outputs": [
        {
          "output_type": "stream",
          "text": [
            "Welcome my friend !!\n",
            "Do you want to try my new ability?\n",
            "I can make a password for you.\n",
            "\n",
            "You can customize the password what you want.\n",
            "You only need to answer this question.\n",
            "It won' be difficult. I think.. :)\n",
            "\n",
            "Type Y/y for yes.\n",
            "Type N/n for no.\n",
            "\n",
            "Do you want to use alphabets to your password? n\n",
            "Do you want to use numbers to your password? y\n",
            "How many password do you want? 3\n",
            "How long is your password? 6\n",
            "\n",
            "This is your password(s)\n",
            "356569\n",
            "763316\n",
            "531505\n"
          ],
          "name": "stdout"
        }
      ]
    },
    {
      "cell_type": "code",
      "metadata": {
        "colab": {
          "base_uri": "https://localhost:8080/"
        },
        "id": "iz5a-xzwGkax",
        "outputId": "1f35b1d8-ff77-4949-935f-4e89cacef261"
      },
      "source": [
        "main()"
      ],
      "execution_count": 4,
      "outputs": [
        {
          "output_type": "stream",
          "text": [
            "Welcome my friend !!\n",
            "Do you want to try my new ability?\n",
            "I can make a password for you.\n",
            "\n",
            "You can customize the password what you want.\n",
            "You only need to answer this question.\n",
            "It won' be difficult. I think.. :)\n",
            "\n",
            "Type Y/y for yes.\n",
            "Type N/n for no.\n",
            "\n",
            "Do you want to use alphabets to your password? y\n",
            "Do you want to use lower cases to your password? n\n",
            "Do you want to use upper cases to your password? y\n",
            "Do you want to use numbers to your password? y\n",
            "How many password do you want? 3\n",
            "How long is your password? 5\n",
            "\n",
            "This is your password(s)\n",
            "2O4C9\n",
            "7CYVS\n",
            "LZICT\n"
          ],
          "name": "stdout"
        }
      ]
    },
    {
      "cell_type": "code",
      "metadata": {
        "colab": {
          "base_uri": "https://localhost:8080/"
        },
        "id": "S4DOCux5G0iX",
        "outputId": "0265c6dc-49ec-452b-c20e-2c16d9fb7e95"
      },
      "source": [
        "main()"
      ],
      "execution_count": 5,
      "outputs": [
        {
          "output_type": "stream",
          "text": [
            "Welcome my friend !!\n",
            "Do you want to try my new ability?\n",
            "I can make a password for you.\n",
            "\n",
            "You can customize the password what you want.\n",
            "You only need to answer this question.\n",
            "It won' be difficult. I think.. :)\n",
            "\n",
            "Type Y/y for yes.\n",
            "Type N/n for no.\n",
            "\n",
            "Do you want to use alphabets to your password? y\n",
            "Do you want to use lower cases to your password? y\n",
            "Do you want to use upper cases to your password? y\n",
            "Do you want to use numbers to your password? n\n",
            "How many password do you want? 3\n",
            "How long is your password? 5\n",
            "\n",
            "This is your password(s)\n",
            "LTPHQ\n",
            "nXWMf\n",
            "qfvTv\n"
          ],
          "name": "stdout"
        }
      ]
    },
    {
      "cell_type": "code",
      "metadata": {
        "id": "tcUeQC9kG5PD"
      },
      "source": [
        ""
      ],
      "execution_count": null,
      "outputs": []
    }
  ]
}