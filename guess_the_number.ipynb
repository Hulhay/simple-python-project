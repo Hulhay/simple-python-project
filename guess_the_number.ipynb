{
  "nbformat": 4,
  "nbformat_minor": 0,
  "metadata": {
    "colab": {
      "name": "guess_the_number",
      "provenance": [],
      "authorship_tag": "ABX9TyOpZIvIqVPr8g8iWKlDTOaJ",
      "include_colab_link": true
    },
    "kernelspec": {
      "name": "python3",
      "display_name": "Python 3"
    },
    "language_info": {
      "name": "python"
    }
  },
  "cells": [
    {
      "cell_type": "markdown",
      "metadata": {
        "id": "view-in-github",
        "colab_type": "text"
      },
      "source": [
        "<a href=\"https://colab.research.google.com/github/Hulhay/simple-python-project/blob/main/guess_the_number.ipynb\" target=\"_parent\"><img src=\"https://colab.research.google.com/assets/colab-badge.svg\" alt=\"Open In Colab\"/></a>"
      ]
    },
    {
      "cell_type": "code",
      "metadata": {
        "id": "bh7byC_eBX4N"
      },
      "source": [
        "import random"
      ],
      "execution_count": 1,
      "outputs": []
    },
    {
      "cell_type": "code",
      "metadata": {
        "id": "8k1HnZABCwuR"
      },
      "source": [
        "def main():\n",
        "  \n",
        "  print('I just thought of one number.')\n",
        "  print('Can you guess the number I\\'m thinking of ?')\n",
        "  print('BTW, you only have 5 chance')\n",
        "\n",
        "  number = random.randint(1, 100)\n",
        "\n",
        "  chance = 1\n",
        "  while chance <= 5:\n",
        "\n",
        "    print('\\nChance {}. What is your guess ?'.format(chance))    \n",
        "    guess = int(input())\n",
        "\n",
        "    if guess < number:\n",
        "      print('Sorry, it\\'s too small.')\n",
        "      chance += 1\n",
        "\n",
        "    elif guess > number:\n",
        "      print('Sorry, it\\'s too big.')\n",
        "      chance += 1\n",
        "\n",
        "    else:\n",
        "      print('\\nYOU WIN. My number is {}'.format(guess))\n",
        "      break\n",
        "\n",
        "  print('\\nYOU LOSE. SORRY.. :)')\n",
        "  print('My number is {}'.format(number))"
      ],
      "execution_count": 14,
      "outputs": []
    },
    {
      "cell_type": "code",
      "metadata": {
        "colab": {
          "base_uri": "https://localhost:8080/"
        },
        "id": "DGGmVc28Fdgv",
        "outputId": "a5c23945-e02e-4a70-aadb-febd53c2981c"
      },
      "source": [
        "main()"
      ],
      "execution_count": 15,
      "outputs": [
        {
          "output_type": "stream",
          "text": [
            "I just thought of one number.\n",
            "Can you guess the number I'm thinking of ?\n",
            "BTW, you only have 5 chance\n",
            "\n",
            "Chance 1. What is your guess ?\n",
            "50\n",
            "Sorry, it's too big.\n",
            "\n",
            "Chance 2. What is your guess ?\n",
            "25\n",
            "Sorry, it's too big.\n",
            "\n",
            "Chance 3. What is your guess ?\n",
            "15\n",
            "Sorry, it's too big.\n",
            "\n",
            "Chance 4. What is your guess ?\n",
            "8\n",
            "Sorry, it's too small.\n",
            "\n",
            "Chance 5. What is your guess ?\n",
            "13\n",
            "Sorry, it's too small.\n",
            "\n",
            "YOU LOSE. SORRY.. :)\n",
            "My number is 14\n"
          ],
          "name": "stdout"
        }
      ]
    },
    {
      "cell_type": "code",
      "metadata": {
        "id": "Kiz8LdI0Fg_C"
      },
      "source": [
        ""
      ],
      "execution_count": null,
      "outputs": []
    }
  ]
}