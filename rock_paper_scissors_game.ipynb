{
  "nbformat": 4,
  "nbformat_minor": 0,
  "metadata": {
    "colab": {
      "name": "rock_paper_scissors_game",
      "provenance": [],
      "authorship_tag": "ABX9TyMpZwhvowNkq6XdTaLtxghF",
      "include_colab_link": true
    },
    "kernelspec": {
      "name": "python3",
      "display_name": "Python 3"
    },
    "language_info": {
      "name": "python"
    }
  },
  "cells": [
    {
      "cell_type": "markdown",
      "metadata": {
        "id": "view-in-github",
        "colab_type": "text"
      },
      "source": [
        "<a href=\"https://colab.research.google.com/github/Hulhay/simple-python-project/blob/main/rock_paper_scissors_game.ipynb\" target=\"_parent\"><img src=\"https://colab.research.google.com/assets/colab-badge.svg\" alt=\"Open In Colab\"/></a>"
      ]
    },
    {
      "cell_type": "code",
      "metadata": {
        "id": "vRIQASIGIAbp"
      },
      "source": [
        "import random"
      ],
      "execution_count": 1,
      "outputs": []
    },
    {
      "cell_type": "code",
      "metadata": {
        "id": "DVsKm1ePIM04"
      },
      "source": [
        "def main():\n",
        "\n",
        "  print('''In my neighbourhood, I\\'m the best at rock-paper-scissors.\\nI challenge you to play this game.\\n''')\n",
        "\n",
        "  print('''As a rule, you only need to type in what \"weapon\" you are going to use.\\nBest of three is the winner. OK. Let\\'s play.''')\n",
        "\n",
        "  weapon = ['rock', 'paper', 'scissors']\n",
        "  \n",
        "  round = 1\n",
        "  score = {\n",
        "      'bot' : 0,\n",
        "      'human' : 0\n",
        "      }\n",
        "  winner = max(score.keys(), key=(lambda k: score[k]))\n",
        "\n",
        "  while score[winner] < 3:\n",
        "\n",
        "    print('\\nROUND {}'.format(round))\n",
        "    bot_weapon = random.choice(weapon)\n",
        "    human_weapon = input('Your weapon = ').lower()\n",
        "\n",
        "    print('\\nYour weapon = {}\\nMy weapon = {}\\n'.format(human_weapon, bot_weapon))\n",
        "\n",
        "    if human_weapon not in weapon:\n",
        "      print('You\\'re typo. I win. LOL.')\n",
        "      score['bot'] += 1\n",
        "      winner = max(score.keys(), key=(lambda k: score[k]))\n",
        "      print('You {} - {} Me'.format(score['human'], score['bot']))\n",
        "\n",
        "    if human_weapon == 'rock':\n",
        "      if bot_weapon == 'rock':\n",
        "        print('You {} - {} Me'.format(score['human'], score['bot']))\n",
        "      elif bot_weapon == 'paper':\n",
        "        score['bot'] += 1\n",
        "        winner = max(score.keys(), key=(lambda k: score[k]))\n",
        "        print('You {} - {} Me'.format(score['human'], score['bot']))\n",
        "      else:\n",
        "        score['human'] += 1\n",
        "        winner = max(score.keys(), key=(lambda k: score[k]))\n",
        "        print('You {} - {} Me'.format(score['human'], score['bot']))\n",
        "\n",
        "    if human_weapon == 'paper':\n",
        "      if bot_weapon == 'paper':\n",
        "        print('You {} - {} Me'.format(score['human'], score['bot']))\n",
        "      elif bot_weapon == 'scissors':\n",
        "        score['bot'] += 1\n",
        "        winner = max(score.keys(), key=(lambda k: score[k]))\n",
        "        print('You {} - {} Me'.format(score['human'], score['bot']))\n",
        "      else:\n",
        "        score['human'] += 1\n",
        "        winner = max(score.keys(), key=(lambda k: score[k]))\n",
        "        print('You {} - {} Me'.format(score['human'], score['bot']))\n",
        "\n",
        "    if human_weapon == 'scissors':\n",
        "      if bot_weapon == 'scissors':\n",
        "        print('You {} - {} Me'.format(score['human'], score['bot']))\n",
        "      elif bot_weapon == 'rock':\n",
        "        score['bot'] += 1\n",
        "        winner = max(score.keys(), key=(lambda k: score[k]))\n",
        "        print('You {} - {} Me'.format(score['human'], score['bot']))\n",
        "      else:\n",
        "        score['human'] += 1\n",
        "        winner = max(score.keys(), key=(lambda k: score[k]))\n",
        "        print('You {} - {} Me'.format(score['human'], score['bot']))\n",
        "\n",
        "    round += 1\n",
        "\n",
        "  if winner == 'bot':\n",
        "    if round == 3:\n",
        "      print('\\nSee. I still the best.')\n",
        "    else:\n",
        "      print('\\nOK. Maybe you will defeat me later')\n",
        "\n",
        "  if winner == 'human':\n",
        "    print('\\nYou just luck, you know!')"
      ],
      "execution_count": 2,
      "outputs": []
    },
    {
      "cell_type": "code",
      "metadata": {
        "colab": {
          "base_uri": "https://localhost:8080/"
        },
        "id": "rEXcU99XPdcK",
        "outputId": "02819018-c364-4011-ea5c-146d92296b27"
      },
      "source": [
        "main()"
      ],
      "execution_count": 3,
      "outputs": [
        {
          "output_type": "stream",
          "text": [
            "In my neighbourhood, I'm the best at rock-paper-scissors.\n",
            "I challenge you to play this game.\n",
            "\n",
            "As a rule, you only need to type in what \"weapon\" you are going to use.\n",
            "Best of three is the winner. OK. Let's play.\n",
            "\n",
            "ROUND 1\n",
            "Your weapon = rock\n",
            "\n",
            "Your weapon = rock\n",
            "My weapon = rock\n",
            "\n",
            "You 0 - 0 Me\n",
            "\n",
            "ROUND 2\n",
            "Your weapon = paper\n",
            "\n",
            "Your weapon = paper\n",
            "My weapon = paper\n",
            "\n",
            "You 0 - 0 Me\n",
            "\n",
            "ROUND 3\n",
            "Your weapon = rock\n",
            "\n",
            "Your weapon = rock\n",
            "My weapon = scissors\n",
            "\n",
            "You 1 - 0 Me\n",
            "\n",
            "ROUND 4\n",
            "Your weapon = paper\n",
            "\n",
            "Your weapon = paper\n",
            "My weapon = rock\n",
            "\n",
            "You 2 - 0 Me\n",
            "\n",
            "ROUND 5\n",
            "Your weapon = scissors\n",
            "\n",
            "Your weapon = scissors\n",
            "My weapon = rock\n",
            "\n",
            "You 2 - 1 Me\n",
            "\n",
            "ROUND 6\n",
            "Your weapon = rock\n",
            "\n",
            "Your weapon = rock\n",
            "My weapon = scissors\n",
            "\n",
            "You 3 - 1 Me\n",
            "\n",
            "You just luck, you know!\n"
          ],
          "name": "stdout"
        }
      ]
    },
    {
      "cell_type": "code",
      "metadata": {
        "id": "CFYclj34SrPZ"
      },
      "source": [
        ""
      ],
      "execution_count": null,
      "outputs": []
    }
  ]
}